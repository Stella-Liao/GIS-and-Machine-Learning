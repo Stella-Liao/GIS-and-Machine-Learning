{
 "cells": [
  {
   "cell_type": "code",
   "execution_count": 1,
   "metadata": {},
   "outputs": [],
   "source": [
    "import numpy as np\n",
    "import matplotlib.pyplot as plt\n",
    "\n",
    "\n",
    "# create a function to plot SVC decision boundary\n",
    "def plot_svc_decision_boundary(svm_clf, xmin, xmax):\n",
    "    x0 = np.linspace(xmin,xmax,100)\n",
    "    \n",
    "    w = svm_clf.coef_[0]\n",
    "    b = svm_clf.intercept_[0]\n",
    "    \n",
    "    # At the decision boundary, w0*x0 + w1*x1 + b = 0\n",
    "    # => x1 = -w0/w1 * x0 - b/w1\n",
    "    x1 = -w[0]/w[1] * x0 - b/w[1]\n",
    "    \n",
    "    margin_diff = 1/w[1]\n",
    "    \n",
    "    upper = x1 + margin_diff\n",
    "    lower = x1 - margin_diff\n",
    "    \n",
    "    plt.plot(x0,x1,\"k-\")\n",
    "    plt.plot(x0,upper,\"k--\")\n",
    "    plt.plot(x0,lower,\"k--\")\n",
    "    \n",
    "    # plot the supper vector points \n",
    "    svp = svm_clf.support_vectors_\n",
    "    plt.scatter(svp[:,0], svp[:,1], s=180, c='#FFAAAA')\n",
    "    \n",
    "    \n",
    "def plot_nonlinear_boundary(svm_clf_pipeline, axes):\n",
    "    x0s = np.linspace(axes[0],axes[1], 100)\n",
    "    x1s = np.linspace(axes[2],axes[3], 100)\n",
    "    x0, x1 = np.meshgrid(x0s,x1s)\n",
    "    X = np.c_[x0.ravel(),x1.ravel()]\n",
    "    y_pred = svm_clf_pipeline.predict(X).reshape(x0.shape)\n",
    "    plt.contourf(x0,x1,y_pred,cmap=plt.cm.brg,alpha=0.2)\n",
    "    \n",
    "    \n",
    "\n",
    "def plot_svm_reg_boundary(svm_model, minX, maxX):\n",
    "    X_new = np.linspace(minX,maxX,50).reshape(50,1)\n",
    "    y_hat = svm_model.predict(X_new)\n",
    "    y_upper = y_hat + svm_model.epsilon\n",
    "    y_lower = y_hat - svm_model.epsilon\n",
    "    plt.plot(X_new, y_hat, \"k-\")\n",
    "    plt.plot(X_new, y_upper, \"k--\")\n",
    "    plt.plot(X_new, y_lower, \"k--\")\n",
    "    \n",
    "    svp = svm_reg.support_\n",
    "   \n",
    "    plt.scatter(X[svp],y[svp], s=180, c=\"#FFAAAA\")"
   ]
  },
  {
   "cell_type": "code",
   "execution_count": 2,
   "metadata": {},
   "outputs": [],
   "source": [
    "from sklearn.datasets import load_iris\n",
    "iris=load_iris()"
   ]
  },
  {
   "cell_type": "code",
   "execution_count": 3,
   "metadata": {},
   "outputs": [
    {
     "data": {
      "text/plain": [
       "[<matplotlib.lines.Line2D at 0x240fb12d388>]"
      ]
     },
     "execution_count": 3,
     "metadata": {},
     "output_type": "execute_result"
    },
    {
     "data": {
      "image/png": "[encoded data removed]",
      "text/plain": [
       "<Figure size 432x288 with 1 Axes>"
      ]
     },
     "metadata": {
      "needs_background": "light"
     },
     "output_type": "display_data"
    }
   ],
   "source": [
    "X= iris.data[:,2:][iris.target !=2]\n",
    "y=iris.target[iris.target !=2]\n",
    "\n",
    "plt.plot(X[:,0][y==0],X[:,1][y==0],\"bs\")\n",
    "plt.plot(X[:,0][y==1],X[:,1][y==1],\"yo\")"
   ]
  },
  {
   "cell_type": "code",
   "execution_count": 4,
   "metadata": {},
   "outputs": [
    {
     "data": {
      "text/plain": [
       "array([[-1.01297765, -1.04211089],\n",
       "       [-1.01297765, -1.04211089],\n",
       "       [-1.08231219, -1.04211089],\n",
       "       [-0.94364311, -1.04211089],\n",
       "       [-1.01297765, -1.04211089],\n",
       "       [-0.80497402, -0.68644165],\n",
       "       [-1.01297765, -0.86427627],\n",
       "       [-0.94364311, -1.04211089],\n",
       "       [-1.01297765, -1.04211089],\n",
       "       [-0.94364311, -1.21994552],\n",
       "       [-0.94364311, -1.04211089],\n",
       "       [-0.87430856, -1.04211089],\n",
       "       [-1.01297765, -1.21994552],\n",
       "       [-1.22098127, -1.21994552],\n",
       "       [-1.15164673, -1.04211089],\n",
       "       [-0.94364311, -0.68644165],\n",
       "       [-1.08231219, -0.68644165],\n",
       "       [-1.01297765, -0.86427627],\n",
       "       [-0.80497402, -0.86427627],\n",
       "       [-0.94364311, -0.86427627],\n",
       "       [-0.80497402, -1.04211089],\n",
       "       [-0.94364311, -0.68644165],\n",
       "       [-1.29031581, -1.04211089],\n",
       "       [-0.80497402, -0.50860702],\n",
       "       [-0.66630494, -1.04211089],\n",
       "       [-0.87430856, -1.04211089],\n",
       "       [-0.87430856, -0.68644165],\n",
       "       [-0.94364311, -1.04211089],\n",
       "       [-1.01297765, -1.04211089],\n",
       "       [-0.87430856, -1.04211089],\n",
       "       [-0.87430856, -1.04211089],\n",
       "       [-0.94364311, -0.68644165],\n",
       "       [-0.94364311, -1.21994552],\n",
       "       [-1.01297765, -1.04211089],\n",
       "       [-0.94364311, -1.04211089],\n",
       "       [-1.15164673, -1.04211089],\n",
       "       [-1.08231219, -1.04211089],\n",
       "       [-1.01297765, -1.21994552],\n",
       "       [-1.08231219, -1.04211089],\n",
       "       [-0.94364311, -1.04211089],\n",
       "       [-1.08231219, -0.86427627],\n",
       "       [-1.08231219, -0.86427627],\n",
       "       [-1.08231219, -1.04211089],\n",
       "       [-0.87430856, -0.3307724 ],\n",
       "       [-0.66630494, -0.68644165],\n",
       "       [-1.01297765, -0.86427627],\n",
       "       [-0.87430856, -1.04211089],\n",
       "       [-1.01297765, -1.04211089],\n",
       "       [-0.94364311, -1.04211089],\n",
       "       [-1.01297765, -1.04211089],\n",
       "       [ 1.27506221,  1.09190459],\n",
       "       [ 1.13639313,  1.26973921],\n",
       "       [ 1.4137313 ,  1.26973921],\n",
       "       [ 0.78972042,  0.91406997],\n",
       "       [ 1.20572767,  1.26973921],\n",
       "       [ 1.13639313,  0.91406997],\n",
       "       [ 1.27506221,  1.44757384],\n",
       "       [ 0.30437864,  0.38056609],\n",
       "       [ 1.20572767,  0.91406997],\n",
       "       [ 0.72038588,  1.09190459],\n",
       "       [ 0.44304772,  0.38056609],\n",
       "       [ 0.92838951,  1.26973921],\n",
       "       [ 0.78972042,  0.38056609],\n",
       "       [ 1.27506221,  1.09190459],\n",
       "       [ 0.51238226,  0.91406997],\n",
       "       [ 1.06705859,  1.09190459],\n",
       "       [ 1.13639313,  1.26973921],\n",
       "       [ 0.85905497,  0.38056609],\n",
       "       [ 1.13639313,  1.26973921],\n",
       "       [ 0.72038588,  0.55840072],\n",
       "       [ 1.34439675,  1.80324308],\n",
       "       [ 0.78972042,  0.91406997],\n",
       "       [ 1.4137313 ,  1.26973921],\n",
       "       [ 1.27506221,  0.73623534],\n",
       "       [ 0.99772405,  0.91406997],\n",
       "       [ 1.06705859,  1.09190459],\n",
       "       [ 1.34439675,  1.09190459],\n",
       "       [ 1.48306584,  1.62540846],\n",
       "       [ 1.13639313,  1.26973921],\n",
       "       [ 0.44304772,  0.38056609],\n",
       "       [ 0.65105134,  0.55840072],\n",
       "       [ 0.5817168 ,  0.38056609],\n",
       "       [ 0.72038588,  0.73623534],\n",
       "       [ 1.55240038,  1.44757384],\n",
       "       [ 1.13639313,  1.26973921],\n",
       "       [ 1.13639313,  1.44757384],\n",
       "       [ 1.27506221,  1.26973921],\n",
       "       [ 1.06705859,  0.91406997],\n",
       "       [ 0.85905497,  0.91406997],\n",
       "       [ 0.78972042,  0.91406997],\n",
       "       [ 1.06705859,  0.73623534],\n",
       "       [ 1.20572767,  1.09190459],\n",
       "       [ 0.78972042,  0.73623534],\n",
       "       [ 0.30437864,  0.38056609],\n",
       "       [ 0.92838951,  0.91406997],\n",
       "       [ 0.92838951,  0.73623534],\n",
       "       [ 0.92838951,  0.91406997],\n",
       "       [ 0.99772405,  0.91406997],\n",
       "       [ 0.09637501,  0.55840072],\n",
       "       [ 0.85905497,  0.91406997]])"
      ]
     },
     "execution_count": 4,
     "metadata": {},
     "output_type": "execute_result"
    }
   ],
   "source": [
    "from sklearn.preprocessing import StandardScaler\n",
    "\n",
    "std_scaler =StandardScaler()\n",
    "std_scaler.fit_transform(X)"
   ]
  },
  {
   "cell_type": "code",
   "execution_count": 5,
   "metadata": {},
   "outputs": [
    {
     "data": {
      "text/plain": [
       "SVC(C=1.0, cache_size=200, class_weight=None, coef0=0.0,\n",
       "    decision_function_shape='ovr', degree=3, gamma='auto_deprecated',\n",
       "    kernel='linear', max_iter=-1, probability=False, random_state=42,\n",
       "    shrinking=True, tol=0.001, verbose=False)"
      ]
     },
     "execution_count": 5,
     "metadata": {},
     "output_type": "execute_result"
    }
   ],
   "source": [
    "from sklearn.svm import SVC\n",
    "svm_clf = SVC(kernel=\"linear\",random_state=42)\n",
    "svm_clf.fit(X,y)"
   ]
  },
  {
   "cell_type": "code",
   "execution_count": 6,
   "metadata": {},
   "outputs": [
    {
     "data": {
      "text/plain": [
       "[<matplotlib.lines.Line2D at 0x240fb6abd48>]"
      ]
     },
     "execution_count": 6,
     "metadata": {},
     "output_type": "execute_result"
    },
    {
     "data": {
      "image/png": "[encoded data removed]",
      "text/plain": [
       "<Figure size 432x288 with 1 Axes>"
      ]
     },
     "metadata": {
      "needs_background": "light"
     },
     "output_type": "display_data"
    }
   ],
   "source": [
    "plot_svc_decision_boundary(svm_clf,-1.5,1.5)\n",
    "plt.plot(X[:,0][y==0],X[:,1][y==0],\"bs\")\n",
    "plt.plot(X[:,0][y==1],X[:,1][y==1],\"yo\")"
   ]
  },
  {
   "cell_type": "code",
   "execution_count": 7,
   "metadata": {
    "scrolled": true
   },
   "outputs": [
    {
     "data": {
      "text/plain": [
       "[<matplotlib.lines.Line2D at 0x240fc70bbc8>]"
      ]
     },
     "execution_count": 7,
     "metadata": {},
     "output_type": "execute_result"
    },
    {
     "data": {
      "image/png": "[encoded data removed]",
      "text/plain": [
       "<Figure size 432x288 with 1 Axes>"
      ]
     },
     "metadata": {
      "needs_background": "light"
     },
     "output_type": "display_data"
    }
   ],
   "source": [
    "svm_clf = SVC(kernel=\"linear\",C=100,random_state=42)\n",
    "svm_clf.fit(X,y)\n",
    "plot_svc_decision_boundary(svm_clf,-1.5,1.5)\n",
    "plt.plot(X[:,0][y==0],X[:,1][y==0],\"bs\")\n",
    "plt.plot(X[:,0][y==1],X[:,1][y==1],\"yo\")"
   ]
  },
  {
   "cell_type": "code",
   "execution_count": 8,
   "metadata": {},
   "outputs": [],
   "source": [
    "from sklearn.datasets import make_moons\n",
    "X,y = make_moons(n_samples=100,noise=0.15,random_state=42)"
   ]
  },
  {
   "cell_type": "code",
   "execution_count": 9,
   "metadata": {},
   "outputs": [
    {
     "data": {
      "text/plain": [
       "[<matplotlib.lines.Line2D at 0x240fc73e3c8>]"
      ]
     },
     "execution_count": 9,
     "metadata": {},
     "output_type": "execute_result"
    },
    {
     "data": {
      "image/png": "[encoded data removed]",
      "text/plain": [
       "<Figure size 432x288 with 1 Axes>"
      ]
     },
     "metadata": {
      "needs_background": "light"
     },
     "output_type": "display_data"
    }
   ],
   "source": [
    "plt.plot(X[:,0][y==0],X[:,1][y==0],\"bs\")\n",
    "plt.plot(X[:,0][y==1],X[:,1][y==1],\"yo\")"
   ]
  },
  {
   "cell_type": "code",
   "execution_count": 10,
   "metadata": {},
   "outputs": [
    {
     "data": {
      "text/plain": [
       "Pipeline(memory=None,\n",
       "         steps=[('std_scaler',\n",
       "                 StandardScaler(copy=True, with_mean=True, with_std=True)),\n",
       "                ('poly_feature',\n",
       "                 PolynomialFeatures(degree=3, include_bias=True,\n",
       "                                    interaction_only=False, order='C')),\n",
       "                ('svm_clf',\n",
       "                 SVC(C=1.0, cache_size=200, class_weight=None, coef0=0.0,\n",
       "                     decision_function_shape='ovr', degree=3,\n",
       "                     gamma='auto_deprecated', kernel='linear', max_iter=-1,\n",
       "                     probability=False, random_state=42, shrinking=True,\n",
       "                     tol=0.001, verbose=False))],\n",
       "         verbose=False)"
      ]
     },
     "execution_count": 10,
     "metadata": {},
     "output_type": "execute_result"
    }
   ],
   "source": [
    "from sklearn.pipeline import Pipeline\n",
    "from sklearn.preprocessing import PolynomialFeatures\n",
    "svm_pipeline = Pipeline([\n",
    "    (\"std_scaler\",StandardScaler()),\n",
    "    (\"poly_feature\",PolynomialFeatures(degree=3)),\n",
    "    (\"svm_clf\",SVC(kernel=\"linear\",random_state=42))\n",
    "])\n",
    "\n",
    "svm_pipeline.fit(X,y)"
   ]
  },
  {
   "cell_type": "code",
   "execution_count": 11,
   "metadata": {},
   "outputs": [
    {
     "data": {
      "text/plain": [
       "[<matplotlib.lines.Line2D at 0x240fc80c3c8>]"
      ]
     },
     "execution_count": 11,
     "metadata": {},
     "output_type": "execute_result"
    },
    {
     "data": {
      "image/png": "[encoded data removed]",
      "text/plain": [
       "<Figure size 432x288 with 1 Axes>"
      ]
     },
     "metadata": {
      "needs_background": "light"
     },
     "output_type": "display_data"
    }
   ],
   "source": [
    "plot_nonlinear_boundary(svm_pipeline,axes=[-1.5,2.5,-1.0,1.5])\n",
    "plt.plot(X[:,0][y==0],X[:,1][y==0],\"bs\")\n",
    "plt.plot(X[:,0][y==1],X[:,1][y==1],\"yo\")"
   ]
  },
  {
   "cell_type": "code",
   "execution_count": 12,
   "metadata": {},
   "outputs": [
    {
     "data": {
      "text/plain": [
       "Pipeline(memory=None,\n",
       "         steps=[('std_scaler',\n",
       "                 StandardScaler(copy=True, with_mean=True, with_std=True)),\n",
       "                ('svm_clf',\n",
       "                 SVC(C=1.0, cache_size=200, class_weight=None, coef0=0.0,\n",
       "                     decision_function_shape='ovr', degree=3, gamma=0.9,\n",
       "                     kernel='rbf', max_iter=-1, probability=False,\n",
       "                     random_state=42, shrinking=True, tol=0.001,\n",
       "                     verbose=False))],\n",
       "         verbose=False)"
      ]
     },
     "execution_count": 12,
     "metadata": {},
     "output_type": "execute_result"
    }
   ],
   "source": [
    "svm_pipeline = Pipeline([\n",
    "    (\"std_scaler\",StandardScaler()),\n",
    "    (\"svm_clf\",SVC(kernel=\"rbf\",degree=3,gamma=0.9,random_state=42))\n",
    "])\n",
    "svm_pipeline.fit(X,y)"
   ]
  },
  {
   "cell_type": "code",
   "execution_count": 13,
   "metadata": {},
   "outputs": [
    {
     "data": {
      "text/plain": [
       "[<matplotlib.lines.Line2D at 0x240fc8a1988>]"
      ]
     },
     "execution_count": 13,
     "metadata": {},
     "output_type": "execute_result"
    },
    {
     "data": {
      "image/png": "[encoded data removed]",
      "text/plain": [
       "<Figure size 432x288 with 1 Axes>"
      ]
     },
     "metadata": {
      "needs_background": "light"
     },
     "output_type": "display_data"
    }
   ],
   "source": [
    "plot_nonlinear_boundary(svm_pipeline,axes=[-1.5,2.5,-1.0,1.5])\n",
    "plt.plot(X[:,0][y==0],X[:,1][y==0],\"bs\")\n",
    "plt.plot(X[:,0][y==1],X[:,1][y==1],\"yo\")"
   ]
  },
  {
   "cell_type": "code",
   "execution_count": 14,
   "metadata": {},
   "outputs": [],
   "source": [
    "np.random.seed(42)"
   ]
  },
  {
   "cell_type": "code",
   "execution_count": 15,
   "metadata": {},
   "outputs": [
    {
     "data": {
      "text/plain": [
       "[<matplotlib.lines.Line2D at 0x24084d48f48>]"
      ]
     },
     "execution_count": 15,
     "metadata": {},
     "output_type": "execute_result"
    },
    {
     "data": {
      "image/png": "[encoded data removed]",
      "text/plain": [
       "<Figure size 432x288 with 1 Axes>"
      ]
     },
     "metadata": {
      "needs_background": "light"
     },
     "output_type": "display_data"
    }
   ],
   "source": [
    "m = 50\n",
    "X = 2 * np.random.rand(m,1) - 1\n",
    "y = 3 * X + 1 + np.random.randn(m,1)\n",
    "y = y.ravel()\n",
    "plt.plot(X,y,\"b.\")"
   ]
  },
  {
   "cell_type": "code",
   "execution_count": 16,
   "metadata": {},
   "outputs": [
    {
     "data": {
      "text/plain": [
       "SVR(C=1.0, cache_size=200, coef0=0.0, degree=3, epsilon=1,\n",
       "    gamma='auto_deprecated', kernel='linear', max_iter=-1, shrinking=True,\n",
       "    tol=0.001, verbose=False)"
      ]
     },
     "execution_count": 16,
     "metadata": {},
     "output_type": "execute_result"
    }
   ],
   "source": [
    "from sklearn.svm import SVR\n",
    "svm_reg = SVR(kernel=\"linear\",epsilon=1)\n",
    "svm_reg.fit(X,y)"
   ]
  },
  {
   "cell_type": "code",
   "execution_count": 19,
   "metadata": {},
   "outputs": [
    {
     "data": {
      "text/plain": [
       "[<matplotlib.lines.Line2D at 0x2408705d588>]"
      ]
     },
     "execution_count": 19,
     "metadata": {},
     "output_type": "execute_result"
    },
    {
     "data": {
      "image/png": "[encoded data removed]",
      "text/plain": [
       "<Figure size 432x288 with 1 Axes>"
      ]
     },
     "metadata": {
      "needs_background": "light"
     },
     "output_type": "display_data"
    }
   ],
   "source": [
    "plot_svm_reg_boundary(svm_reg,-1,1)\n",
    "plt.plot(X,y,\"b.\") #detect outliers when using svm regression"
   ]
  },
  {
   "cell_type": "code",
   "execution_count": null,
   "metadata": {},
   "outputs": [],
   "source": []
  }
 ],
 "metadata": {
  "kernelspec": {
   "display_name": "Python 3",
   "language": "python",
   "name": "python3"
  },
  "language_info": {
   "codemirror_mode": {
    "name": "ipython",
    "version": 3
   },
   "file_extension": ".py",
   "mimetype": "text/x-python",
   "name": "python",
   "nbconvert_exporter": "python",
   "pygments_lexer": "ipython3",
   "version": "3.7.4"
  }
 },
 "nbformat": 4,
 "nbformat_minor": 2
}
