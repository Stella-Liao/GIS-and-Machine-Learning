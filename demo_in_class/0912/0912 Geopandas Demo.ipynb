{
 "cells": [
  {
   "cell_type": "code",
   "execution_count": 1,
   "metadata": {},
   "outputs": [
    {
     "name": "stdout",
     "output_type": "stream",
     "text": [
      "     Name  Age\n",
      "0    Alex   10\n",
      "1     Bob   12\n",
      "2  Clarke   13\n"
     ]
    }
   ],
   "source": [
    "import pandas as pd\n",
    "data = [['Alex',10],['Bob',12],['Clarke',13]]\n",
    "df = pd.DataFrame(data,columns=['Name','Age'])\n",
    "print(df)"
   ]
  },
  {
   "cell_type": "code",
   "execution_count": 2,
   "metadata": {},
   "outputs": [
    {
     "name": "stdout",
     "output_type": "stream",
     "text": [
      "     Name  Age  grade\n",
      "0    Alex   10    one\n",
      "1     Bob   12    two\n",
      "2  Clarke   13  three\n"
     ]
    }
   ],
   "source": [
    "df['grade'] = ['one','two','three']\n",
    "print(df)"
   ]
  },
  {
   "cell_type": "code",
   "execution_count": 4,
   "metadata": {},
   "outputs": [
    {
     "name": "stdout",
     "output_type": "stream",
     "text": [
      "0      Alex\n",
      "1       Bob\n",
      "2    Clarke\n",
      "Name: Name, dtype: object\n"
     ]
    }
   ],
   "source": [
    "print(df['Name'])"
   ]
  },
  {
   "cell_type": "code",
   "execution_count": 6,
   "metadata": {},
   "outputs": [
    {
     "data": {
      "text/plain": [
       "pandas.core.series.Series"
      ]
     },
     "execution_count": 6,
     "metadata": {},
     "output_type": "execute_result"
    }
   ],
   "source": [
    "type(df['Name'])"
   ]
  },
  {
   "cell_type": "code",
   "execution_count": 9,
   "metadata": {},
   "outputs": [],
   "source": [
    "from geopandas import GeoSeries\n",
    "from shapely.geometry import Point"
   ]
  },
  {
   "cell_type": "code",
   "execution_count": 14,
   "metadata": {},
   "outputs": [
    {
     "data": {
      "text/plain": [
       "geopandas.geoseries.GeoSeries"
      ]
     },
     "execution_count": 14,
     "metadata": {},
     "output_type": "execute_result"
    }
   ],
   "source": [
    "gs = GeoSeries([Point(-120,20),Point(-120,21),Point(-120,22)])\n",
    "type(gs)"
   ]
  },
  {
   "cell_type": "code",
   "execution_count": 15,
   "metadata": {},
   "outputs": [],
   "source": [
    "gs.crs = { 'init':'epsg:4326'}"
   ]
  },
  {
   "cell_type": "code",
   "execution_count": 20,
   "metadata": {},
   "outputs": [
    {
     "data": {
      "text/plain": [
       "(19, 23)"
      ]
     },
     "execution_count": 20,
     "metadata": {},
     "output_type": "execute_result"
    },
    {
     "data": {
      "image/png": "[encoded data removed]",
      "text/plain": [
       "<Figure size 432x288 with 1 Axes>"
      ]
     },
     "metadata": {
      "needs_background": "light"
     },
     "output_type": "display_data"
    }
   ],
   "source": [
    "import matplotlib.pyplot as plt\n",
    "gs.plot(marker = '*', markersize = 50, color = 'r')\n",
    "plt.xlim([-121,-119])\n",
    "plt.ylim([19,23])"
   ]
  },
  {
   "cell_type": "code",
   "execution_count": 27,
   "metadata": {},
   "outputs": [
    {
     "data": {
      "text/plain": [
       "0        POINT (-120 45)\n",
       "1      POINT (-121.2 46)\n",
       "2    POINT (-122.9 47.5)\n",
       "dtype: object"
      ]
     },
     "execution_count": 27,
     "metadata": {},
     "output_type": "execute_result"
    }
   ],
   "source": [
    "data = {'Name':['a','b','c'], 'lat':[45,46,47.5],'lng':[-120,-121.2,-122.9]}# it is a dictionary\n",
    "geometrics = [Point(xy) for xy in zip(data['lng'],data['lat'])]# it is a list\n",
    "gs = GeoSeries(geometrics)\n",
    "gs"
   ]
  },
  {
   "cell_type": "code",
   "execution_count": 33,
   "metadata": {},
   "outputs": [
    {
     "data": {
      "text/html": [
       "<div>\n",
       "<style scoped>\n",
       "    .dataframe tbody tr th:only-of-type {\n",
       "        vertical-align: middle;\n",
       "    }\n",
       "\n",
       "    .dataframe tbody tr th {\n",
       "        vertical-align: top;\n",
       "    }\n",
       "\n",
       "    .dataframe thead th {\n",
       "        text-align: right;\n",
       "    }\n",
       "</style>\n",
       "<table border=\"1\" class=\"dataframe\">\n",
       "  <thead>\n",
       "    <tr style=\"text-align: right;\">\n",
       "      <th></th>\n",
       "      <th>Name</th>\n",
       "      <th>lat</th>\n",
       "      <th>lng</th>\n",
       "    </tr>\n",
       "  </thead>\n",
       "  <tbody>\n",
       "    <tr>\n",
       "      <td>0</td>\n",
       "      <td>a</td>\n",
       "      <td>45.0</td>\n",
       "      <td>-120.0</td>\n",
       "    </tr>\n",
       "    <tr>\n",
       "      <td>1</td>\n",
       "      <td>b</td>\n",
       "      <td>46.0</td>\n",
       "      <td>-121.2</td>\n",
       "    </tr>\n",
       "    <tr>\n",
       "      <td>2</td>\n",
       "      <td>c</td>\n",
       "      <td>47.5</td>\n",
       "      <td>-122.9</td>\n",
       "    </tr>\n",
       "  </tbody>\n",
       "</table>\n",
       "</div>"
      ],
      "text/plain": [
       "  Name   lat    lng\n",
       "0    a  45.0 -120.0\n",
       "1    b  46.0 -121.2\n",
       "2    c  47.5 -122.9"
      ]
     },
     "execution_count": 33,
     "metadata": {},
     "output_type": "execute_result"
    }
   ],
   "source": [
    "df = pd.DataFrame(data)\n",
    "df"
   ]
  },
  {
   "cell_type": "code",
   "execution_count": 29,
   "metadata": {},
   "outputs": [
    {
     "data": {
      "text/html": [
       "<div>\n",
       "<style scoped>\n",
       "    .dataframe tbody tr th:only-of-type {\n",
       "        vertical-align: middle;\n",
       "    }\n",
       "\n",
       "    .dataframe tbody tr th {\n",
       "        vertical-align: top;\n",
       "    }\n",
       "\n",
       "    .dataframe thead th {\n",
       "        text-align: right;\n",
       "    }\n",
       "</style>\n",
       "<table border=\"1\" class=\"dataframe\">\n",
       "  <thead>\n",
       "    <tr style=\"text-align: right;\">\n",
       "      <th></th>\n",
       "      <th>Name</th>\n",
       "      <th>lat</th>\n",
       "      <th>lng</th>\n",
       "      <th>geometry</th>\n",
       "    </tr>\n",
       "  </thead>\n",
       "  <tbody>\n",
       "    <tr>\n",
       "      <td>0</td>\n",
       "      <td>a</td>\n",
       "      <td>45.0</td>\n",
       "      <td>-120.0</td>\n",
       "      <td>POINT (-120 45)</td>\n",
       "    </tr>\n",
       "    <tr>\n",
       "      <td>1</td>\n",
       "      <td>b</td>\n",
       "      <td>46.0</td>\n",
       "      <td>-121.2</td>\n",
       "      <td>POINT (-121.2 46)</td>\n",
       "    </tr>\n",
       "    <tr>\n",
       "      <td>2</td>\n",
       "      <td>c</td>\n",
       "      <td>47.5</td>\n",
       "      <td>-122.9</td>\n",
       "      <td>POINT (-122.9 47.5)</td>\n",
       "    </tr>\n",
       "  </tbody>\n",
       "</table>\n",
       "</div>"
      ],
      "text/plain": [
       "  Name   lat    lng             geometry\n",
       "0    a  45.0 -120.0      POINT (-120 45)\n",
       "1    b  46.0 -121.2    POINT (-121.2 46)\n",
       "2    c  47.5 -122.9  POINT (-122.9 47.5)"
      ]
     },
     "execution_count": 29,
     "metadata": {},
     "output_type": "execute_result"
    }
   ],
   "source": [
    "import geopandas as gpd\n",
    "gdf = gpd.GeoDataFrame(df,geometry = geometrics)#geometry is argument\n",
    "gdf"
   ]
  },
  {
   "cell_type": "code",
   "execution_count": 31,
   "metadata": {},
   "outputs": [
    {
     "data": {
      "text/plain": [
       "<matplotlib.axes._subplots.AxesSubplot at 0x141597631c8>"
      ]
     },
     "execution_count": 31,
     "metadata": {},
     "output_type": "execute_result"
    },
    {
     "data": {
      "image/png": "[encoded data removed]",
      "text/plain": [
       "<Figure size 360x360 with 1 Axes>"
      ]
     },
     "metadata": {
      "needs_background": "light"
     },
     "output_type": "display_data"
    }
   ],
   "source": [
    "gdf.plot(marker = \"*\", markersize = 50, color = 'r', figsize = (5,5))"
   ]
  },
  {
   "cell_type": "code",
   "execution_count": 37,
   "metadata": {},
   "outputs": [
    {
     "data": {
      "text/html": [
       "<div>\n",
       "<style scoped>\n",
       "    .dataframe tbody tr th:only-of-type {\n",
       "        vertical-align: middle;\n",
       "    }\n",
       "\n",
       "    .dataframe tbody tr th {\n",
       "        vertical-align: top;\n",
       "    }\n",
       "\n",
       "    .dataframe thead th {\n",
       "        text-align: right;\n",
       "    }\n",
       "</style>\n",
       "<table border=\"1\" class=\"dataframe\">\n",
       "  <thead>\n",
       "    <tr style=\"text-align: right;\">\n",
       "      <th></th>\n",
       "      <th>FIPS_CNTRY</th>\n",
       "      <th>GMI_CNTRY</th>\n",
       "      <th>ISO_2DIGIT</th>\n",
       "      <th>ISO_3DIGIT</th>\n",
       "      <th>ISO_NUM</th>\n",
       "      <th>CNTRY_NAME</th>\n",
       "      <th>LONG_NAME</th>\n",
       "      <th>ISOSHRTNAM</th>\n",
       "      <th>UNSHRTNAM</th>\n",
       "      <th>LOCSHRTNAM</th>\n",
       "      <th>...</th>\n",
       "      <th>Shape_Leng</th>\n",
       "      <th>Shape_Area</th>\n",
       "      <th>TOTCO2_200</th>\n",
       "      <th>GDP_USD</th>\n",
       "      <th>GDP_YR</th>\n",
       "      <th>IMPORT_USD</th>\n",
       "      <th>IMPORT_YR</th>\n",
       "      <th>EXPORT_USD</th>\n",
       "      <th>EXPORT_YR</th>\n",
       "      <th>geometry</th>\n",
       "    </tr>\n",
       "  </thead>\n",
       "  <tbody>\n",
       "    <tr>\n",
       "      <td>0</td>\n",
       "      <td>FK</td>\n",
       "      <td>FLK</td>\n",
       "      <td>FK</td>\n",
       "      <td>FLK</td>\n",
       "      <td>238</td>\n",
       "      <td>Falkland Is.</td>\n",
       "      <td>Falkland Islands (Islas Malvinas)</td>\n",
       "      <td>Falkland Islands (Malvinas)</td>\n",
       "      <td>Falkland Islands (Malvinas)</td>\n",
       "      <td>None</td>\n",
       "      <td>...</td>\n",
       "      <td>19.082566</td>\n",
       "      <td>1.495383</td>\n",
       "      <td>0.034875</td>\n",
       "      <td>7.500000e+07</td>\n",
       "      <td>2002.0</td>\n",
       "      <td>90000000.0</td>\n",
       "      <td>2004.0</td>\n",
       "      <td>125000000.0</td>\n",
       "      <td>2004.0</td>\n",
       "      <td>(POLYGON ((-59.34806388800274 -52.343054965346...</td>\n",
       "    </tr>\n",
       "    <tr>\n",
       "      <td>1</td>\n",
       "      <td>FG</td>\n",
       "      <td>GUF</td>\n",
       "      <td>GF</td>\n",
       "      <td>GUF</td>\n",
       "      <td>254</td>\n",
       "      <td>French Guiana</td>\n",
       "      <td>Department of Guiana</td>\n",
       "      <td>French Guiana</td>\n",
       "      <td>French Guiana</td>\n",
       "      <td>Guyane</td>\n",
       "      <td>...</td>\n",
       "      <td>12.253085</td>\n",
       "      <td>6.807577</td>\n",
       "      <td>1.087413</td>\n",
       "      <td>1.551000e+09</td>\n",
       "      <td>2003.0</td>\n",
       "      <td>625000000.0</td>\n",
       "      <td>2002.0</td>\n",
       "      <td>137500000.0</td>\n",
       "      <td>2003.0</td>\n",
       "      <td>POLYGON ((-54.60378188365621 2.329191086166702...</td>\n",
       "    </tr>\n",
       "    <tr>\n",
       "      <td>2</td>\n",
       "      <td>GY</td>\n",
       "      <td>GUY</td>\n",
       "      <td>GY</td>\n",
       "      <td>GUY</td>\n",
       "      <td>328</td>\n",
       "      <td>Guyana</td>\n",
       "      <td>Co-operative Republic of Guyana</td>\n",
       "      <td>Guyana</td>\n",
       "      <td>Guyana</td>\n",
       "      <td>None</td>\n",
       "      <td>...</td>\n",
       "      <td>25.707599</td>\n",
       "      <td>17.175215</td>\n",
       "      <td>1.715807</td>\n",
       "      <td>3.620000e+09</td>\n",
       "      <td>2006.0</td>\n",
       "      <td>706900000.0</td>\n",
       "      <td>2006.0</td>\n",
       "      <td>621600000.0</td>\n",
       "      <td>2006.0</td>\n",
       "      <td>POLYGON ((-58.1726178863139 6.812218090372085,...</td>\n",
       "    </tr>\n",
       "  </tbody>\n",
       "</table>\n",
       "<p>3 rows × 33 columns</p>\n",
       "</div>"
      ],
      "text/plain": [
       "  FIPS_CNTRY GMI_CNTRY ISO_2DIGIT ISO_3DIGIT  ISO_NUM     CNTRY_NAME  \\\n",
       "0         FK       FLK         FK        FLK      238   Falkland Is.   \n",
       "1         FG       GUF         GF        GUF      254  French Guiana   \n",
       "2         GY       GUY         GY        GUY      328         Guyana   \n",
       "\n",
       "                           LONG_NAME                   ISOSHRTNAM  \\\n",
       "0  Falkland Islands (Islas Malvinas)  Falkland Islands (Malvinas)   \n",
       "1               Department of Guiana                French Guiana   \n",
       "2    Co-operative Republic of Guyana                       Guyana   \n",
       "\n",
       "                     UNSHRTNAM LOCSHRTNAM  ... Shape_Leng Shape_Area  \\\n",
       "0  Falkland Islands (Malvinas)       None  ...  19.082566   1.495383   \n",
       "1                French Guiana     Guyane  ...  12.253085   6.807577   \n",
       "2                       Guyana       None  ...  25.707599  17.175215   \n",
       "\n",
       "   TOTCO2_200       GDP_USD  GDP_YR   IMPORT_USD  IMPORT_YR   EXPORT_USD  \\\n",
       "0    0.034875  7.500000e+07  2002.0   90000000.0     2004.0  125000000.0   \n",
       "1    1.087413  1.551000e+09  2003.0  625000000.0     2002.0  137500000.0   \n",
       "2    1.715807  3.620000e+09  2006.0  706900000.0     2006.0  621600000.0   \n",
       "\n",
       "   EXPORT_YR                                           geometry  \n",
       "0     2004.0  (POLYGON ((-59.34806388800274 -52.343054965346...  \n",
       "1     2003.0  POLYGON ((-54.60378188365621 2.329191086166702...  \n",
       "2     2006.0  POLYGON ((-58.1726178863139 6.812218090372085,...  \n",
       "\n",
       "[3 rows x 33 columns]"
      ]
     },
     "execution_count": 37,
     "metadata": {},
     "output_type": "execute_result"
    }
   ],
   "source": [
    "world = gpd.read_file(\"CountrySHP/Countries_2007.shp\")\n",
    "world.head(3)"
   ]
  },
  {
   "cell_type": "code",
   "execution_count": 38,
   "metadata": {},
   "outputs": [
    {
     "data": {
      "text/plain": [
       "<matplotlib.axes._subplots.AxesSubplot at 0x14163de60c8>"
      ]
     },
     "execution_count": 38,
     "metadata": {},
     "output_type": "execute_result"
    },
    {
     "data": {
      "image/png": "[encoded data removed]",
      "text/plain": [
       "<Figure size 432x288 with 1 Axes>"
      ]
     },
     "metadata": {
      "needs_background": "light"
     },
     "output_type": "display_data"
    }
   ],
   "source": [
    "world.plot()"
   ]
  },
  {
   "cell_type": "code",
   "execution_count": 1,
   "metadata": {},
   "outputs": [
    {
     "ename": "NameError",
     "evalue": "name 'gpd' is not defined",
     "output_type": "error",
     "traceback": [
      "\u001b[1;31m---------------------------------------------------------------------------\u001b[0m",
      "\u001b[1;31mNameError\u001b[0m                                 Traceback (most recent call last)",
      "\u001b[1;32m<ipython-input-1-0c13a0cd6bf6>\u001b[0m in \u001b[0;36m<module>\u001b[1;34m\u001b[0m\n\u001b[1;32m----> 1\u001b[1;33m \u001b[0mworld\u001b[0m \u001b[1;33m=\u001b[0m \u001b[0mgpd\u001b[0m\u001b[1;33m.\u001b[0m\u001b[0mread_file\u001b[0m\u001b[1;33m(\u001b[0m\u001b[0mgdp\u001b[0m\u001b[1;33m.\u001b[0m\u001b[0mdatasets\u001b[0m\u001b[1;33m.\u001b[0m\u001b[0mget_path\u001b[0m\u001b[1;33m(\u001b[0m\u001b[1;34m'naturalearth_lowres'\u001b[0m\u001b[1;33m)\u001b[0m\u001b[1;33m)\u001b[0m\u001b[1;33m\u001b[0m\u001b[1;33m\u001b[0m\u001b[0m\n\u001b[0m",
      "\u001b[1;31mNameError\u001b[0m: name 'gpd' is not defined"
     ]
    }
   ],
   "source": [
    "world = gpd.read_file(gdp.datasets.get_path('naturalearth_lowres'))"
   ]
  }
 ],
 "metadata": {
  "kernelspec": {
   "display_name": "Python 3",
   "language": "python",
   "name": "python3"
  },
  "language_info": {
   "codemirror_mode": {
    "name": "ipython",
    "version": 3
   },
   "file_extension": ".py",
   "mimetype": "text/x-python",
   "name": "python",
   "nbconvert_exporter": "python",
   "pygments_lexer": "ipython3",
   "version": "3.7.4"
  }
 },
 "nbformat": 4,
 "nbformat_minor": 2
}
