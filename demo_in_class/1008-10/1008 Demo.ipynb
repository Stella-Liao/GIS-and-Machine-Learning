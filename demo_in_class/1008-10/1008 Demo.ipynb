{
 "cells": [
  {
   "cell_type": "code",
   "execution_count": 2,
   "metadata": {},
   "outputs": [],
   "source": [
    "import numpy as np"
   ]
  },
  {
   "cell_type": "code",
   "execution_count": 3,
   "metadata": {},
   "outputs": [],
   "source": [
    "import matplotlib.pyplot as plt"
   ]
  },
  {
   "cell_type": "code",
   "execution_count": 4,
   "metadata": {},
   "outputs": [],
   "source": [
    "np.random.seed(42)"
   ]
  },
  {
   "cell_type": "code",
   "execution_count": 5,
   "metadata": {},
   "outputs": [
    {
     "data": {
      "text/plain": [
       "array([[0.54340494],\n",
       "       [0.27836939],\n",
       "       [0.42451759],\n",
       "       [0.84477613],\n",
       "       [0.00471886],\n",
       "       [0.12156912],\n",
       "       [0.67074908],\n",
       "       [0.82585276],\n",
       "       [0.13670659],\n",
       "       [0.57509333],\n",
       "       [0.89132195],\n",
       "       [0.20920212],\n",
       "       [0.18532822],\n",
       "       [0.10837689],\n",
       "       [0.21969749],\n",
       "       [0.97862378],\n",
       "       [0.81168315],\n",
       "       [0.17194101],\n",
       "       [0.81622475],\n",
       "       [0.27407375],\n",
       "       [0.43170418],\n",
       "       [0.94002982],\n",
       "       [0.81764938],\n",
       "       [0.33611195],\n",
       "       [0.17541045],\n",
       "       [0.37283205],\n",
       "       [0.00568851],\n",
       "       [0.25242635],\n",
       "       [0.79566251],\n",
       "       [0.01525497],\n",
       "       [0.59884338],\n",
       "       [0.60380454],\n",
       "       [0.10514769],\n",
       "       [0.38194344],\n",
       "       [0.03647606],\n",
       "       [0.89041156],\n",
       "       [0.98092086],\n",
       "       [0.05994199],\n",
       "       [0.89054594],\n",
       "       [0.5769015 ],\n",
       "       [0.74247969],\n",
       "       [0.63018394],\n",
       "       [0.58184219],\n",
       "       [0.02043913],\n",
       "       [0.21002658],\n",
       "       [0.54468488],\n",
       "       [0.76911517],\n",
       "       [0.25069523],\n",
       "       [0.28589569],\n",
       "       [0.85239509],\n",
       "       [0.97500649],\n",
       "       [0.88485329],\n",
       "       [0.35950784],\n",
       "       [0.59885895],\n",
       "       [0.35479561],\n",
       "       [0.34019022],\n",
       "       [0.17808099],\n",
       "       [0.23769421],\n",
       "       [0.04486228],\n",
       "       [0.50543143],\n",
       "       [0.37625245],\n",
       "       [0.5928054 ],\n",
       "       [0.62994188],\n",
       "       [0.14260031],\n",
       "       [0.9338413 ],\n",
       "       [0.94637988],\n",
       "       [0.60229666],\n",
       "       [0.38776628],\n",
       "       [0.363188  ],\n",
       "       [0.20434528],\n",
       "       [0.27676506],\n",
       "       [0.24653588],\n",
       "       [0.173608  ],\n",
       "       [0.96660969],\n",
       "       [0.9570126 ],\n",
       "       [0.59797368],\n",
       "       [0.73130075],\n",
       "       [0.34038522],\n",
       "       [0.0920556 ],\n",
       "       [0.46349802],\n",
       "       [0.50869889],\n",
       "       [0.08846017],\n",
       "       [0.52803522],\n",
       "       [0.99215804],\n",
       "       [0.39503593],\n",
       "       [0.33559644],\n",
       "       [0.80545054],\n",
       "       [0.75434899],\n",
       "       [0.31306644],\n",
       "       [0.63403668],\n",
       "       [0.54040458],\n",
       "       [0.29679375],\n",
       "       [0.1107879 ],\n",
       "       [0.3126403 ],\n",
       "       [0.45697913],\n",
       "       [0.65894007],\n",
       "       [0.25425752],\n",
       "       [0.64110126],\n",
       "       [0.20012361],\n",
       "       [0.65762481]])"
      ]
     },
     "execution_count": 5,
     "metadata": {},
     "output_type": "execute_result"
    }
   ],
   "source": [
    "X = np.random.rand(100,1)\n",
    "X"
   ]
  },
  {
   "cell_type": "code",
   "execution_count": 6,
   "metadata": {},
   "outputs": [],
   "source": [
    "Y = 4 + 3 * X + np.random.rand(100,1)"
   ]
  },
  {
   "cell_type": "code",
   "execution_count": 7,
   "metadata": {},
   "outputs": [
    {
     "data": {
      "text/plain": [
       "[<matplotlib.lines.Line2D at 0x153583e4188>]"
      ]
     },
     "execution_count": 7,
     "metadata": {},
     "output_type": "execute_result"
    },
    {
     "data": {
      "image/png": "[encoded data removed]",
      "text/plain": [
       "<Figure size 432x288 with 1 Axes>"
      ]
     },
     "metadata": {
      "needs_background": "light"
     },
     "output_type": "display_data"
    }
   ],
   "source": [
    "plt.plot(X,Y,\"b.\")"
   ]
  },
  {
   "cell_type": "code",
   "execution_count": 8,
   "metadata": {},
   "outputs": [],
   "source": [
    "b = np.ones((100,1))\n",
    "X_B = np.c_[b,X]"
   ]
  },
  {
   "cell_type": "code",
   "execution_count": 9,
   "metadata": {},
   "outputs": [
    {
     "data": {
      "text/plain": [
       "array([[1.        , 0.54340494],\n",
       "       [1.        , 0.27836939],\n",
       "       [1.        , 0.42451759],\n",
       "       [1.        , 0.84477613],\n",
       "       [1.        , 0.00471886],\n",
       "       [1.        , 0.12156912],\n",
       "       [1.        , 0.67074908],\n",
       "       [1.        , 0.82585276],\n",
       "       [1.        , 0.13670659],\n",
       "       [1.        , 0.57509333],\n",
       "       [1.        , 0.89132195],\n",
       "       [1.        , 0.20920212],\n",
       "       [1.        , 0.18532822],\n",
       "       [1.        , 0.10837689],\n",
       "       [1.        , 0.21969749],\n",
       "       [1.        , 0.97862378],\n",
       "       [1.        , 0.81168315],\n",
       "       [1.        , 0.17194101],\n",
       "       [1.        , 0.81622475],\n",
       "       [1.        , 0.27407375],\n",
       "       [1.        , 0.43170418],\n",
       "       [1.        , 0.94002982],\n",
       "       [1.        , 0.81764938],\n",
       "       [1.        , 0.33611195],\n",
       "       [1.        , 0.17541045],\n",
       "       [1.        , 0.37283205],\n",
       "       [1.        , 0.00568851],\n",
       "       [1.        , 0.25242635],\n",
       "       [1.        , 0.79566251],\n",
       "       [1.        , 0.01525497],\n",
       "       [1.        , 0.59884338],\n",
       "       [1.        , 0.60380454],\n",
       "       [1.        , 0.10514769],\n",
       "       [1.        , 0.38194344],\n",
       "       [1.        , 0.03647606],\n",
       "       [1.        , 0.89041156],\n",
       "       [1.        , 0.98092086],\n",
       "       [1.        , 0.05994199],\n",
       "       [1.        , 0.89054594],\n",
       "       [1.        , 0.5769015 ],\n",
       "       [1.        , 0.74247969],\n",
       "       [1.        , 0.63018394],\n",
       "       [1.        , 0.58184219],\n",
       "       [1.        , 0.02043913],\n",
       "       [1.        , 0.21002658],\n",
       "       [1.        , 0.54468488],\n",
       "       [1.        , 0.76911517],\n",
       "       [1.        , 0.25069523],\n",
       "       [1.        , 0.28589569],\n",
       "       [1.        , 0.85239509],\n",
       "       [1.        , 0.97500649],\n",
       "       [1.        , 0.88485329],\n",
       "       [1.        , 0.35950784],\n",
       "       [1.        , 0.59885895],\n",
       "       [1.        , 0.35479561],\n",
       "       [1.        , 0.34019022],\n",
       "       [1.        , 0.17808099],\n",
       "       [1.        , 0.23769421],\n",
       "       [1.        , 0.04486228],\n",
       "       [1.        , 0.50543143],\n",
       "       [1.        , 0.37625245],\n",
       "       [1.        , 0.5928054 ],\n",
       "       [1.        , 0.62994188],\n",
       "       [1.        , 0.14260031],\n",
       "       [1.        , 0.9338413 ],\n",
       "       [1.        , 0.94637988],\n",
       "       [1.        , 0.60229666],\n",
       "       [1.        , 0.38776628],\n",
       "       [1.        , 0.363188  ],\n",
       "       [1.        , 0.20434528],\n",
       "       [1.        , 0.27676506],\n",
       "       [1.        , 0.24653588],\n",
       "       [1.        , 0.173608  ],\n",
       "       [1.        , 0.96660969],\n",
       "       [1.        , 0.9570126 ],\n",
       "       [1.        , 0.59797368],\n",
       "       [1.        , 0.73130075],\n",
       "       [1.        , 0.34038522],\n",
       "       [1.        , 0.0920556 ],\n",
       "       [1.        , 0.46349802],\n",
       "       [1.        , 0.50869889],\n",
       "       [1.        , 0.08846017],\n",
       "       [1.        , 0.52803522],\n",
       "       [1.        , 0.99215804],\n",
       "       [1.        , 0.39503593],\n",
       "       [1.        , 0.33559644],\n",
       "       [1.        , 0.80545054],\n",
       "       [1.        , 0.75434899],\n",
       "       [1.        , 0.31306644],\n",
       "       [1.        , 0.63403668],\n",
       "       [1.        , 0.54040458],\n",
       "       [1.        , 0.29679375],\n",
       "       [1.        , 0.1107879 ],\n",
       "       [1.        , 0.3126403 ],\n",
       "       [1.        , 0.45697913],\n",
       "       [1.        , 0.65894007],\n",
       "       [1.        , 0.25425752],\n",
       "       [1.        , 0.64110126],\n",
       "       [1.        , 0.20012361],\n",
       "       [1.        , 0.65762481]])"
      ]
     },
     "execution_count": 9,
     "metadata": {},
     "output_type": "execute_result"
    }
   ],
   "source": [
    "X_B"
   ]
  },
  {
   "cell_type": "code",
   "execution_count": 10,
   "metadata": {},
   "outputs": [],
   "source": [
    "theta = np.matmul(np.matmul(np.linalg.inv(np.matmul(X_B.T,X_B)),X_B.T),Y) #(X ^ TX)^-1"
   ]
  },
  {
   "cell_type": "code",
   "execution_count": 11,
   "metadata": {},
   "outputs": [
    {
     "data": {
      "text/plain": [
       "array([[4.54436129],\n",
       "       [2.94676524]])"
      ]
     },
     "execution_count": 11,
     "metadata": {},
     "output_type": "execute_result"
    }
   ],
   "source": [
    "theta"
   ]
  },
  {
   "cell_type": "code",
   "execution_count": 12,
   "metadata": {},
   "outputs": [
    {
     "data": {
      "text/plain": [
       "[<matplotlib.lines.Line2D at 0x1535886ff08>]"
      ]
     },
     "execution_count": 12,
     "metadata": {},
     "output_type": "execute_result"
    },
    {
     "data": {
      "image/png": "[encoded data removed]",
      "text/plain": [
       "<Figure size 432x288 with 1 Axes>"
      ]
     },
     "metadata": {
      "needs_background": "light"
     },
     "output_type": "display_data"
    }
   ],
   "source": [
    "X_new = np.linspace(0,1,100)\n",
    "X_new_b = np.c_[np.ones((100,1)),X_new]\n",
    "y_pred = np.matmul(X_new_b,theta)\n",
    "\n",
    "plt.plot(X,Y,\"b.\")\n",
    "plt.plot(X_new,y_pred,\"r-\")"
   ]
  },
  {
   "cell_type": "code",
   "execution_count": 13,
   "metadata": {},
   "outputs": [],
   "source": [
    "np.random.seed(42)\n",
    "theta = np.random.randn(2,1)"
   ]
  },
  {
   "cell_type": "code",
   "execution_count": 14,
   "metadata": {},
   "outputs": [],
   "source": [
    "eta = 0.1 \n",
    "m = 100 #100 data records"
   ]
  },
  {
   "cell_type": "code",
   "execution_count": 15,
   "metadata": {},
   "outputs": [],
   "source": [
    "for i in range(1000):\n",
    "    gradient = 2 / m * np.matmul(X_B.T,(np.matmul(X_B,theta)-Y))\n",
    "    theta = theta - eta * gradient"
   ]
  },
  {
   "cell_type": "code",
   "execution_count": 16,
   "metadata": {},
   "outputs": [
    {
     "data": {
      "text/plain": [
       "array([[4.544361  ],\n",
       "       [2.94676582]])"
      ]
     },
     "execution_count": 16,
     "metadata": {},
     "output_type": "execute_result"
    }
   ],
   "source": [
    "theta"
   ]
  },
  {
   "cell_type": "code",
   "execution_count": 17,
   "metadata": {},
   "outputs": [],
   "source": [
    "from sklearn.linear_model import SGDRegressor\n",
    "\n",
    "sgd_reg = SGDRegressor(max_iter = 1000,tol=1e-5,random_state=42)"
   ]
  },
  {
   "cell_type": "code",
   "execution_count": 18,
   "metadata": {},
   "outputs": [
    {
     "data": {
      "text/plain": [
       "SGDRegressor(alpha=0.0001, average=False, early_stopping=False, epsilon=0.1,\n",
       "             eta0=0.01, fit_intercept=True, l1_ratio=0.15,\n",
       "             learning_rate='invscaling', loss='squared_loss', max_iter=1000,\n",
       "             n_iter_no_change=5, penalty='l2', power_t=0.25, random_state=42,\n",
       "             shuffle=True, tol=1e-05, validation_fraction=0.1, verbose=0,\n",
       "             warm_start=False)"
      ]
     },
     "execution_count": 18,
     "metadata": {},
     "output_type": "execute_result"
    }
   ],
   "source": [
    "sgd_reg.fit(X,Y.ravel())"
   ]
  },
  {
   "cell_type": "code",
   "execution_count": 19,
   "metadata": {},
   "outputs": [
    {
     "data": {
      "text/plain": [
       "(array([4.61114408]), array([2.81446662]))"
      ]
     },
     "execution_count": 19,
     "metadata": {},
     "output_type": "execute_result"
    }
   ],
   "source": [
    "sgd_reg.intercept_,sgd_reg.coef_"
   ]
  },
  {
   "cell_type": "code",
   "execution_count": 26,
   "metadata": {},
   "outputs": [
    {
     "data": {
      "text/plain": [
       "[<matplotlib.lines.Line2D at 0x15359e2fbc8>]"
      ]
     },
     "execution_count": 26,
     "metadata": {},
     "output_type": "execute_result"
    },
    {
     "data": {
      "image/png": "[encoded data removed]",
      "text/plain": [
       "<Figure size 432x288 with 1 Axes>"
      ]
     },
     "metadata": {
      "needs_background": "light"
     },
     "output_type": "display_data"
    }
   ],
   "source": [
    "np.random.seed(42)\n",
    "X = 6 * np.random.rand(100,1)-3\n",
    "y = 0.5 * X*X+X +2 +np.random.randn(100,1)\n",
    "plt.plot(X,y,\"b.\")"
   ]
  },
  {
   "cell_type": "code",
   "execution_count": 27,
   "metadata": {},
   "outputs": [],
   "source": [
    "from sklearn.preprocessing import PolynomialFeatures\n",
    "poly_feature = PolynomialFeatures(degree=3, interaction_only = True)\n",
    "X_poly = poly_feature.fit_transform(X)"
   ]
  },
  {
   "cell_type": "code",
   "execution_count": 28,
   "metadata": {},
   "outputs": [
    {
     "data": {
      "text/plain": [
       "array([[ 1.        ,  0.26042965],\n",
       "       [ 1.        , -1.32978369],\n",
       "       [ 1.        , -0.45289446],\n",
       "       [ 1.        ,  2.06865679],\n",
       "       [ 1.        , -2.97168686],\n",
       "       [ 1.        , -2.27058528],\n",
       "       [ 1.        ,  1.02449451],\n",
       "       [ 1.        ,  1.95511653],\n",
       "       [ 1.        , -2.17976046],\n",
       "       [ 1.        ,  0.45055998],\n",
       "       [ 1.        ,  2.34793173],\n",
       "       [ 1.        , -1.74478727],\n",
       "       [ 1.        , -1.88803068],\n",
       "       [ 1.        , -2.34973866],\n",
       "       [ 1.        , -1.68181504],\n",
       "       [ 1.        ,  2.87174271],\n",
       "       [ 1.        ,  1.87009889],\n",
       "       [ 1.        , -1.96835392],\n",
       "       [ 1.        ,  1.89734849],\n",
       "       [ 1.        , -1.35555752],\n",
       "       [ 1.        , -0.4097749 ],\n",
       "       [ 1.        ,  2.64017892],\n",
       "       [ 1.        ,  1.90589627],\n",
       "       [ 1.        , -0.9833283 ],\n",
       "       [ 1.        , -1.94753728],\n",
       "       [ 1.        , -0.76300772],\n",
       "       [ 1.        , -2.96586896],\n",
       "       [ 1.        , -1.48544188],\n",
       "       [ 1.        ,  1.77397505],\n",
       "       [ 1.        , -2.90847017],\n",
       "       [ 1.        ,  0.59306026],\n",
       "       [ 1.        ,  0.62282723],\n",
       "       [ 1.        , -2.36911389],\n",
       "       [ 1.        , -0.70833933],\n",
       "       [ 1.        , -2.78114366],\n",
       "       [ 1.        ,  2.34246938],\n",
       "       [ 1.        ,  2.88552514],\n",
       "       [ 1.        , -2.64034807],\n",
       "       [ 1.        ,  2.34327567],\n",
       "       [ 1.        ,  0.461409  ],\n",
       "       [ 1.        ,  1.45487813],\n",
       "       [ 1.        ,  0.78110362],\n",
       "       [ 1.        ,  0.49105315],\n",
       "       [ 1.        , -2.87736521],\n",
       "       [ 1.        , -1.73984053],\n",
       "       [ 1.        ,  0.26810927],\n",
       "       [ 1.        ,  1.61469103],\n",
       "       [ 1.        , -1.49582863],\n",
       "       [ 1.        , -1.28462586],\n",
       "       [ 1.        ,  2.11437053],\n",
       "       [ 1.        ,  2.85003896],\n",
       "       [ 1.        ,  2.30911976],\n",
       "       [ 1.        , -0.84295294],\n",
       "       [ 1.        ,  0.59315368],\n",
       "       [ 1.        , -0.87122633],\n",
       "       [ 1.        , -0.95885871],\n",
       "       [ 1.        , -1.93151406],\n",
       "       [ 1.        , -1.57383475],\n",
       "       [ 1.        , -2.73082631],\n",
       "       [ 1.        ,  0.03258858],\n",
       "       [ 1.        , -0.74248527],\n",
       "       [ 1.        ,  0.55683241],\n",
       "       [ 1.        ,  0.77965125],\n",
       "       [ 1.        , -2.14439811],\n",
       "       [ 1.        ,  2.6030478 ],\n",
       "       [ 1.        ,  2.67827928],\n",
       "       [ 1.        ,  0.61377995],\n",
       "       [ 1.        , -0.67340232],\n",
       "       [ 1.        , -0.82087198],\n",
       "       [ 1.        , -1.77392834],\n",
       "       [ 1.        , -1.33940963],\n",
       "       [ 1.        , -1.52078471],\n",
       "       [ 1.        , -1.95835199],\n",
       "       [ 1.        ,  2.79965817],\n",
       "       [ 1.        ,  2.7420756 ],\n",
       "       [ 1.        ,  0.58784211],\n",
       "       [ 1.        ,  1.38780452],\n",
       "       [ 1.        , -0.95768866],\n",
       "       [ 1.        , -2.44766638],\n",
       "       [ 1.        , -0.21901189],\n",
       "       [ 1.        ,  0.05219336],\n",
       "       [ 1.        , -2.46923896],\n",
       "       [ 1.        ,  0.16821134],\n",
       "       [ 1.        ,  2.95294822],\n",
       "       [ 1.        , -0.62978441],\n",
       "       [ 1.        , -0.98642135],\n",
       "       [ 1.        ,  1.83270322],\n",
       "       [ 1.        ,  1.52609397],\n",
       "       [ 1.        , -1.12160135],\n",
       "       [ 1.        ,  0.8042201 ],\n",
       "       [ 1.        ,  0.24242745],\n",
       "       [ 1.        , -1.21923749],\n",
       "       [ 1.        , -2.33527259],\n",
       "       [ 1.        , -1.12415821],\n",
       "       [ 1.        , -0.25812522],\n",
       "       [ 1.        ,  0.95364042],\n",
       "       [ 1.        , -1.47445489],\n",
       "       [ 1.        ,  0.84660755],\n",
       "       [ 1.        , -1.79925836],\n",
       "       [ 1.        ,  0.94574883]])"
      ]
     },
     "execution_count": 28,
     "metadata": {},
     "output_type": "execute_result"
    }
   ],
   "source": [
    "X_poly"
   ]
  },
  {
   "cell_type": "code",
   "execution_count": 29,
   "metadata": {},
   "outputs": [
    {
     "data": {
      "text/plain": [
       "(array([3.36944374]), array([[0.        , 0.97075095]]))"
      ]
     },
     "execution_count": 29,
     "metadata": {},
     "output_type": "execute_result"
    }
   ],
   "source": [
    "from sklearn.linear_model import LinearRegression\n",
    "\n",
    "lin_reg = LinearRegression()\n",
    "lin_reg.fit(X_poly,y)\n",
    "lin_reg.intercept_,lin_reg.coef_"
   ]
  },
  {
   "cell_type": "code",
   "execution_count": 30,
   "metadata": {},
   "outputs": [
    {
     "data": {
      "text/plain": [
       "[<matplotlib.lines.Line2D at 0x15359e745c8>]"
      ]
     },
     "execution_count": 30,
     "metadata": {},
     "output_type": "execute_result"
    },
    {
     "data": {
      "image/png": "[encoded data removed]",
      "text/plain": [
       "<Figure size 432x288 with 1 Axes>"
      ]
     },
     "metadata": {
      "needs_background": "light"
     },
     "output_type": "display_data"
    }
   ],
   "source": [
    "X_new = np.linspace(-3,3,100)\n",
    "y_pred  = lin_reg.predict(poly_feature.fit_transform(X_new.reshape(-1,1)))\n",
    "plt.plot(X,y,\"b.\")\n",
    "plt.plot(X_new,y_pred,\"r-\")"
   ]
  },
  {
   "cell_type": "code",
   "execution_count": 31,
   "metadata": {},
   "outputs": [
    {
     "data": {
      "text/plain": [
       "[<matplotlib.lines.Line2D at 0x15359f1bfc8>]"
      ]
     },
     "execution_count": 31,
     "metadata": {},
     "output_type": "execute_result"
    },
    {
     "data": {
      "image/png": "[encoded data removed]",
      "text/plain": [
       "<Figure size 432x288 with 1 Axes>"
      ]
     },
     "metadata": {
      "needs_background": "light"
     },
     "output_type": "display_data"
    }
   ],
   "source": [
    "from sklearn.linear_model import Ridge\n",
    "\n",
    "lin_ridge1 = Ridge(alpha=0,random_state=100)\n",
    "lin_ridge1.fit(X_poly,y)\n",
    "\n",
    "lin_ridge2 = Ridge(alpha=50,random_state=100)\n",
    "lin_ridge2.fit(X_poly,y)\n",
    "\n",
    "lin_ridge3 = Ridge(alpha=1000,random_state=100)\n",
    "lin_ridge3.fit(X_poly,y)\n",
    "#It doesn't matter what the actual random_state number is 42, 0, 21, ... \n",
    "#The important thing is that everytime you use 42, you will always get the same output the first time you make the split. \n",
    "\n",
    "X_new_poly = poly_feature.fit_transform(X_new.reshape(-1,1))\n",
    "y_pred1 = lin_ridge1.predict(X_new_poly)\n",
    "y_pred2 = lin_ridge2.predict(X_new_poly)\n",
    "y_pred3 = lin_ridge3.predict(X_new_poly)\n",
    "\n",
    "plt.plot(X,y,\"b.\")\n",
    "plt.plot(X_new,y_pred1,\"r--\")\n",
    "plt.plot(X_new,y_pred2,\"g--\")\n",
    "plt.plot(X_new,y_pred3,\"k--\")"
   ]
  },
  {
   "cell_type": "code",
   "execution_count": null,
   "metadata": {},
   "outputs": [],
   "source": []
  },
  {
   "cell_type": "code",
   "execution_count": null,
   "metadata": {},
   "outputs": [],
   "source": []
  }
 ],
 "metadata": {
  "kernelspec": {
   "display_name": "Python 3",
   "language": "python",
   "name": "python3"
  },
  "language_info": {
   "codemirror_mode": {
    "name": "ipython",
    "version": 3
   },
   "file_extension": ".py",
   "mimetype": "text/x-python",
   "name": "python",
   "nbconvert_exporter": "python",
   "pygments_lexer": "ipython3",
   "version": "3.7.4"
  }
 },
 "nbformat": 4,
 "nbformat_minor": 2
}
